{
 "cells": [
  {
   "cell_type": "code",
   "execution_count": null,
   "id": "7bcefc8d-319b-4df1-a433-0aea2d080313",
   "metadata": {},
   "outputs": [],
   "source": [
    "## Data cleaning and EDA IN PANDAS"
   ]
  },
  {
   "cell_type": "code",
   "execution_count": 112,
   "id": "d4849b88-0df5-43c8-a3b9-8295cb05e1bb",
   "metadata": {},
   "outputs": [],
   "source": [
    "# Import the libraries\n",
    "import pandas as pd\n",
    "\n",
    "import numpy as np\n",
    "import seaborn as sns\n",
    "import matplotlib.pyplot as plt"
   ]
  },
  {
   "cell_type": "code",
   "execution_count": 114,
   "id": "71896c28-7363-4a49-803d-e2f307e35499",
   "metadata": {},
   "outputs": [
    {
     "data": {
      "text/html": [
       "<div>\n",
       "<style scoped>\n",
       "    .dataframe tbody tr th:only-of-type {\n",
       "        vertical-align: middle;\n",
       "    }\n",
       "\n",
       "    .dataframe tbody tr th {\n",
       "        vertical-align: top;\n",
       "    }\n",
       "\n",
       "    .dataframe thead th {\n",
       "        text-align: right;\n",
       "    }\n",
       "</style>\n",
       "<table border=\"1\" class=\"dataframe\">\n",
       "  <thead>\n",
       "    <tr style=\"text-align: right;\">\n",
       "      <th></th>\n",
       "      <th>ID</th>\n",
       "      <th>Year</th>\n",
       "      <th>Country</th>\n",
       "      <th>Continent</th>\n",
       "      <th>Population</th>\n",
       "      <th>GDP (USD)</th>\n",
       "    </tr>\n",
       "  </thead>\n",
       "  <tbody>\n",
       "    <tr>\n",
       "      <th>0</th>\n",
       "      <td>1</td>\n",
       "      <td>2000</td>\n",
       "      <td>Uganda</td>\n",
       "      <td>East Africa</td>\n",
       "      <td>23303189</td>\n",
       "      <td>6193246837</td>\n",
       "    </tr>\n",
       "    <tr>\n",
       "      <th>1</th>\n",
       "      <td>2</td>\n",
       "      <td>2001</td>\n",
       "      <td>Uganda</td>\n",
       "      <td>East Africa</td>\n",
       "      <td>24022603</td>\n",
       "      <td>5840503869</td>\n",
       "    </tr>\n",
       "    <tr>\n",
       "      <th>2</th>\n",
       "      <td>3</td>\n",
       "      <td>2002</td>\n",
       "      <td>Uganda</td>\n",
       "      <td>East Africa</td>\n",
       "      <td>24781316</td>\n",
       "      <td>5840503869</td>\n",
       "    </tr>\n",
       "    <tr>\n",
       "      <th>3</th>\n",
       "      <td>4</td>\n",
       "      <td>2003</td>\n",
       "      <td>Uganda</td>\n",
       "      <td>East Africa</td>\n",
       "      <td>25577246</td>\n",
       "      <td>6606884274</td>\n",
       "    </tr>\n",
       "    <tr>\n",
       "      <th>4</th>\n",
       "      <td>5</td>\n",
       "      <td>2004</td>\n",
       "      <td>Uganda</td>\n",
       "      <td>East Africa</td>\n",
       "      <td>26403221</td>\n",
       "      <td>7939487548</td>\n",
       "    </tr>\n",
       "    <tr>\n",
       "      <th>...</th>\n",
       "      <td>...</td>\n",
       "      <td>...</td>\n",
       "      <td>...</td>\n",
       "      <td>...</td>\n",
       "      <td>...</td>\n",
       "      <td>...</td>\n",
       "    </tr>\n",
       "    <tr>\n",
       "      <th>1329</th>\n",
       "      <td>1330</td>\n",
       "      <td>2018</td>\n",
       "      <td>Togo</td>\n",
       "      <td>West Africa</td>\n",
       "      <td>7794569</td>\n",
       "      <td>7029217932</td>\n",
       "    </tr>\n",
       "    <tr>\n",
       "      <th>1330</th>\n",
       "      <td>1331</td>\n",
       "      <td>2019</td>\n",
       "      <td>Togo</td>\n",
       "      <td>West Africa</td>\n",
       "      <td>7986521</td>\n",
       "      <td>6992656429</td>\n",
       "    </tr>\n",
       "    <tr>\n",
       "      <th>1331</th>\n",
       "      <td>1332</td>\n",
       "      <td>2020</td>\n",
       "      <td>Togo</td>\n",
       "      <td>West Africa</td>\n",
       "      <td>8181085</td>\n",
       "      <td>7389329393</td>\n",
       "    </tr>\n",
       "    <tr>\n",
       "      <th>1332</th>\n",
       "      <td>1333</td>\n",
       "      <td>2021</td>\n",
       "      <td>Togo</td>\n",
       "      <td>West Africa</td>\n",
       "      <td>8399356</td>\n",
       "      <td>8334047486</td>\n",
       "    </tr>\n",
       "    <tr>\n",
       "      <th>1333</th>\n",
       "      <td>1334</td>\n",
       "      <td>2022</td>\n",
       "      <td>Togo</td>\n",
       "      <td>West Africa</td>\n",
       "      <td>8623451</td>\n",
       "      <td>8126439481</td>\n",
       "    </tr>\n",
       "  </tbody>\n",
       "</table>\n",
       "<p>1334 rows × 6 columns</p>\n",
       "</div>"
      ],
      "text/plain": [
       "        ID  Year Country    Continent  Population   GDP (USD)\n",
       "0        1  2000  Uganda  East Africa     23303189 6193246837\n",
       "1        2  2001  Uganda  East Africa     24022603 5840503869\n",
       "2        3  2002  Uganda  East Africa     24781316 5840503869\n",
       "3        4  2003  Uganda  East Africa     25577246 6606884274\n",
       "4        5  2004  Uganda  East Africa     26403221 7939487548\n",
       "...    ...   ...     ...          ...          ...        ...\n",
       "1329  1330  2018    Togo  West Africa      7794569 7029217932\n",
       "1330  1331  2019    Togo  West Africa      7986521 6992656429\n",
       "1331  1332  2020    Togo  West Africa      8181085 7389329393\n",
       "1332  1333  2021    Togo  West Africa      8399356 8334047486\n",
       "1333  1334  2022    Togo  West Africa      8623451 8126439481\n",
       "\n",
       "[1334 rows x 6 columns]"
      ]
     },
     "execution_count": 114,
     "metadata": {},
     "output_type": "execute_result"
    }
   ],
   "source": [
    "df = pd.read_csv(r\"C:\\Users\\HP\\Downloads\\Dataset\\Data_Africa.csv\")\n",
    "df"
   ]
  },
  {
   "cell_type": "code",
   "execution_count": 116,
   "id": "29c88b5c-8378-427b-b04f-58fcfa226b39",
   "metadata": {},
   "outputs": [
    {
     "data": {
      "text/html": [
       "<div>\n",
       "<style scoped>\n",
       "    .dataframe tbody tr th:only-of-type {\n",
       "        vertical-align: middle;\n",
       "    }\n",
       "\n",
       "    .dataframe tbody tr th {\n",
       "        vertical-align: top;\n",
       "    }\n",
       "\n",
       "    .dataframe thead th {\n",
       "        text-align: right;\n",
       "    }\n",
       "</style>\n",
       "<table border=\"1\" class=\"dataframe\">\n",
       "  <thead>\n",
       "    <tr style=\"text-align: right;\">\n",
       "      <th></th>\n",
       "      <th>ID</th>\n",
       "      <th>Year</th>\n",
       "      <th>Country</th>\n",
       "      <th>Continent</th>\n",
       "      <th>Population</th>\n",
       "      <th>GDP (USD)</th>\n",
       "    </tr>\n",
       "  </thead>\n",
       "  <tbody>\n",
       "    <tr>\n",
       "      <th>0</th>\n",
       "      <td>1</td>\n",
       "      <td>2000</td>\n",
       "      <td>Uganda</td>\n",
       "      <td>East Africa</td>\n",
       "      <td>23303189</td>\n",
       "      <td>6193246837</td>\n",
       "    </tr>\n",
       "    <tr>\n",
       "      <th>1</th>\n",
       "      <td>2</td>\n",
       "      <td>2001</td>\n",
       "      <td>Uganda</td>\n",
       "      <td>East Africa</td>\n",
       "      <td>24022603</td>\n",
       "      <td>5840503869</td>\n",
       "    </tr>\n",
       "    <tr>\n",
       "      <th>2</th>\n",
       "      <td>3</td>\n",
       "      <td>2002</td>\n",
       "      <td>Uganda</td>\n",
       "      <td>East Africa</td>\n",
       "      <td>24781316</td>\n",
       "      <td>5840503869</td>\n",
       "    </tr>\n",
       "    <tr>\n",
       "      <th>3</th>\n",
       "      <td>4</td>\n",
       "      <td>2003</td>\n",
       "      <td>Uganda</td>\n",
       "      <td>East Africa</td>\n",
       "      <td>25577246</td>\n",
       "      <td>6606884274</td>\n",
       "    </tr>\n",
       "    <tr>\n",
       "      <th>4</th>\n",
       "      <td>5</td>\n",
       "      <td>2004</td>\n",
       "      <td>Uganda</td>\n",
       "      <td>East Africa</td>\n",
       "      <td>26403221</td>\n",
       "      <td>7939487548</td>\n",
       "    </tr>\n",
       "    <tr>\n",
       "      <th>...</th>\n",
       "      <td>...</td>\n",
       "      <td>...</td>\n",
       "      <td>...</td>\n",
       "      <td>...</td>\n",
       "      <td>...</td>\n",
       "      <td>...</td>\n",
       "    </tr>\n",
       "    <tr>\n",
       "      <th>1329</th>\n",
       "      <td>1330</td>\n",
       "      <td>2018</td>\n",
       "      <td>Togo</td>\n",
       "      <td>West Africa</td>\n",
       "      <td>7794569</td>\n",
       "      <td>7029217932</td>\n",
       "    </tr>\n",
       "    <tr>\n",
       "      <th>1330</th>\n",
       "      <td>1331</td>\n",
       "      <td>2019</td>\n",
       "      <td>Togo</td>\n",
       "      <td>West Africa</td>\n",
       "      <td>7986521</td>\n",
       "      <td>6992656429</td>\n",
       "    </tr>\n",
       "    <tr>\n",
       "      <th>1331</th>\n",
       "      <td>1332</td>\n",
       "      <td>2020</td>\n",
       "      <td>Togo</td>\n",
       "      <td>West Africa</td>\n",
       "      <td>8181085</td>\n",
       "      <td>7389329393</td>\n",
       "    </tr>\n",
       "    <tr>\n",
       "      <th>1332</th>\n",
       "      <td>1333</td>\n",
       "      <td>2021</td>\n",
       "      <td>Togo</td>\n",
       "      <td>West Africa</td>\n",
       "      <td>8399356</td>\n",
       "      <td>8334047486</td>\n",
       "    </tr>\n",
       "    <tr>\n",
       "      <th>1333</th>\n",
       "      <td>1334</td>\n",
       "      <td>2022</td>\n",
       "      <td>Togo</td>\n",
       "      <td>West Africa</td>\n",
       "      <td>8623451</td>\n",
       "      <td>8126439481</td>\n",
       "    </tr>\n",
       "  </tbody>\n",
       "</table>\n",
       "<p>1334 rows × 6 columns</p>\n",
       "</div>"
      ],
      "text/plain": [
       "        ID  Year Country    Continent  Population   GDP (USD)\n",
       "0        1  2000  Uganda  East Africa     23303189 6193246837\n",
       "1        2  2001  Uganda  East Africa     24022603 5840503869\n",
       "2        3  2002  Uganda  East Africa     24781316 5840503869\n",
       "3        4  2003  Uganda  East Africa     25577246 6606884274\n",
       "4        5  2004  Uganda  East Africa     26403221 7939487548\n",
       "...    ...   ...     ...          ...          ...        ...\n",
       "1329  1330  2018    Togo  West Africa      7794569 7029217932\n",
       "1330  1331  2019    Togo  West Africa      7986521 6992656429\n",
       "1331  1332  2020    Togo  West Africa      8181085 7389329393\n",
       "1332  1333  2021    Togo  West Africa      8399356 8334047486\n",
       "1333  1334  2022    Togo  West Africa      8623451 8126439481\n",
       "\n",
       "[1334 rows x 6 columns]"
      ]
     },
     "execution_count": 116,
     "metadata": {},
     "output_type": "execute_result"
    }
   ],
   "source": [
    "df.drop_duplicates()"
   ]
  },
  {
   "cell_type": "code",
   "execution_count": 118,
   "id": "8e084433-76ee-40a6-89e7-0d4fe79946dd",
   "metadata": {},
   "outputs": [],
   "source": [
    "pd.set_option('display.float.format', lambda x: '%.0f' % x)"
   ]
  },
  {
   "cell_type": "code",
   "execution_count": 120,
   "id": "75b80a53-0d4e-46dc-80f3-444f01dfb8d7",
   "metadata": {},
   "outputs": [
    {
     "data": {
      "text/plain": [
       "(1334, 6)"
      ]
     },
     "execution_count": 120,
     "metadata": {},
     "output_type": "execute_result"
    }
   ],
   "source": [
    "df.shape"
   ]
  },
  {
   "cell_type": "code",
   "execution_count": 122,
   "id": "b78e057a-5cee-48fb-81a7-676bdeb34d9a",
   "metadata": {},
   "outputs": [
    {
     "data": {
      "text/plain": [
       "Index(['ID', 'Year', 'Country', 'Continent', 'Population ', 'GDP (USD)'], dtype='object')"
      ]
     },
     "execution_count": 122,
     "metadata": {},
     "output_type": "execute_result"
    }
   ],
   "source": [
    "df.columns"
   ]
  },
  {
   "cell_type": "code",
   "execution_count": 124,
   "id": "d8b60213-e998-428e-bb5b-4a1f7a164096",
   "metadata": {},
   "outputs": [],
   "source": [
    "df['Population '] = df['Population '].apply(str)\n"
   ]
  },
  {
   "cell_type": "code",
   "execution_count": 126,
   "id": "19d68edc-fff6-42b3-8251-750af61df758",
   "metadata": {},
   "outputs": [
    {
     "data": {
      "text/plain": [
       "ID               int64\n",
       "Year             int64\n",
       "Country         object\n",
       "Continent       object\n",
       "Population      object\n",
       "GDP (USD)      float64\n",
       "dtype: object"
      ]
     },
     "execution_count": 126,
     "metadata": {},
     "output_type": "execute_result"
    }
   ],
   "source": [
    "df.dtypes"
   ]
  },
  {
   "cell_type": "code",
   "execution_count": 128,
   "id": "2ae0a5c5-80e5-4757-ac35-2d7f375fa2da",
   "metadata": {},
   "outputs": [],
   "source": [
    "df['Population'] = df['Population '].apply(lambda x: x.replace(' ', ''))"
   ]
  },
  {
   "cell_type": "code",
   "execution_count": 130,
   "id": "260b6970-ae83-45cd-9aed-ac9dec1ab2de",
   "metadata": {},
   "outputs": [],
   "source": [
    "df['Population'] = df['Population'].astype(np.int64)"
   ]
  },
  {
   "cell_type": "code",
   "execution_count": 132,
   "id": "26240a45-1112-4160-a5b1-8003e170a200",
   "metadata": {},
   "outputs": [
    {
     "data": {
      "text/html": [
       "<div>\n",
       "<style scoped>\n",
       "    .dataframe tbody tr th:only-of-type {\n",
       "        vertical-align: middle;\n",
       "    }\n",
       "\n",
       "    .dataframe tbody tr th {\n",
       "        vertical-align: top;\n",
       "    }\n",
       "\n",
       "    .dataframe thead th {\n",
       "        text-align: right;\n",
       "    }\n",
       "</style>\n",
       "<table border=\"1\" class=\"dataframe\">\n",
       "  <thead>\n",
       "    <tr style=\"text-align: right;\">\n",
       "      <th></th>\n",
       "      <th>ID</th>\n",
       "      <th>Year</th>\n",
       "      <th>Country</th>\n",
       "      <th>Continent</th>\n",
       "      <th>Population</th>\n",
       "      <th>GDP (USD)</th>\n",
       "      <th>Population</th>\n",
       "    </tr>\n",
       "  </thead>\n",
       "  <tbody>\n",
       "    <tr>\n",
       "      <th>0</th>\n",
       "      <td>1</td>\n",
       "      <td>2000</td>\n",
       "      <td>Uganda</td>\n",
       "      <td>East Africa</td>\n",
       "      <td>23303189</td>\n",
       "      <td>6193246837</td>\n",
       "      <td>23303189</td>\n",
       "    </tr>\n",
       "    <tr>\n",
       "      <th>1</th>\n",
       "      <td>2</td>\n",
       "      <td>2001</td>\n",
       "      <td>Uganda</td>\n",
       "      <td>East Africa</td>\n",
       "      <td>24022603</td>\n",
       "      <td>5840503869</td>\n",
       "      <td>24022603</td>\n",
       "    </tr>\n",
       "    <tr>\n",
       "      <th>2</th>\n",
       "      <td>3</td>\n",
       "      <td>2002</td>\n",
       "      <td>Uganda</td>\n",
       "      <td>East Africa</td>\n",
       "      <td>24781316</td>\n",
       "      <td>5840503869</td>\n",
       "      <td>24781316</td>\n",
       "    </tr>\n",
       "    <tr>\n",
       "      <th>3</th>\n",
       "      <td>4</td>\n",
       "      <td>2003</td>\n",
       "      <td>Uganda</td>\n",
       "      <td>East Africa</td>\n",
       "      <td>25577246</td>\n",
       "      <td>6606884274</td>\n",
       "      <td>25577246</td>\n",
       "    </tr>\n",
       "    <tr>\n",
       "      <th>4</th>\n",
       "      <td>5</td>\n",
       "      <td>2004</td>\n",
       "      <td>Uganda</td>\n",
       "      <td>East Africa</td>\n",
       "      <td>26403221</td>\n",
       "      <td>7939487548</td>\n",
       "      <td>26403221</td>\n",
       "    </tr>\n",
       "    <tr>\n",
       "      <th>...</th>\n",
       "      <td>...</td>\n",
       "      <td>...</td>\n",
       "      <td>...</td>\n",
       "      <td>...</td>\n",
       "      <td>...</td>\n",
       "      <td>...</td>\n",
       "      <td>...</td>\n",
       "    </tr>\n",
       "    <tr>\n",
       "      <th>1329</th>\n",
       "      <td>1330</td>\n",
       "      <td>2018</td>\n",
       "      <td>Togo</td>\n",
       "      <td>West Africa</td>\n",
       "      <td>7794569</td>\n",
       "      <td>7029217932</td>\n",
       "      <td>7794569</td>\n",
       "    </tr>\n",
       "    <tr>\n",
       "      <th>1330</th>\n",
       "      <td>1331</td>\n",
       "      <td>2019</td>\n",
       "      <td>Togo</td>\n",
       "      <td>West Africa</td>\n",
       "      <td>7986521</td>\n",
       "      <td>6992656429</td>\n",
       "      <td>7986521</td>\n",
       "    </tr>\n",
       "    <tr>\n",
       "      <th>1331</th>\n",
       "      <td>1332</td>\n",
       "      <td>2020</td>\n",
       "      <td>Togo</td>\n",
       "      <td>West Africa</td>\n",
       "      <td>8181085</td>\n",
       "      <td>7389329393</td>\n",
       "      <td>8181085</td>\n",
       "    </tr>\n",
       "    <tr>\n",
       "      <th>1332</th>\n",
       "      <td>1333</td>\n",
       "      <td>2021</td>\n",
       "      <td>Togo</td>\n",
       "      <td>West Africa</td>\n",
       "      <td>8399356</td>\n",
       "      <td>8334047486</td>\n",
       "      <td>8399356</td>\n",
       "    </tr>\n",
       "    <tr>\n",
       "      <th>1333</th>\n",
       "      <td>1334</td>\n",
       "      <td>2022</td>\n",
       "      <td>Togo</td>\n",
       "      <td>West Africa</td>\n",
       "      <td>8623451</td>\n",
       "      <td>8126439481</td>\n",
       "      <td>8623451</td>\n",
       "    </tr>\n",
       "  </tbody>\n",
       "</table>\n",
       "<p>1334 rows × 7 columns</p>\n",
       "</div>"
      ],
      "text/plain": [
       "        ID  Year Country    Continent Population   GDP (USD)  Population\n",
       "0        1  2000  Uganda  East Africa    23303189 6193246837    23303189\n",
       "1        2  2001  Uganda  East Africa    24022603 5840503869    24022603\n",
       "2        3  2002  Uganda  East Africa    24781316 5840503869    24781316\n",
       "3        4  2003  Uganda  East Africa    25577246 6606884274    25577246\n",
       "4        5  2004  Uganda  East Africa    26403221 7939487548    26403221\n",
       "...    ...   ...     ...          ...         ...        ...         ...\n",
       "1329  1330  2018    Togo  West Africa     7794569 7029217932     7794569\n",
       "1330  1331  2019    Togo  West Africa     7986521 6992656429     7986521\n",
       "1331  1332  2020    Togo  West Africa     8181085 7389329393     8181085\n",
       "1332  1333  2021    Togo  West Africa     8399356 8334047486     8399356\n",
       "1333  1334  2022    Togo  West Africa     8623451 8126439481     8623451\n",
       "\n",
       "[1334 rows x 7 columns]"
      ]
     },
     "execution_count": 132,
     "metadata": {},
     "output_type": "execute_result"
    }
   ],
   "source": [
    "df"
   ]
  },
  {
   "cell_type": "code",
   "execution_count": 134,
   "id": "8277be33-fda1-4beb-aa05-51c1c1d00a56",
   "metadata": {},
   "outputs": [
    {
     "data": {
      "text/html": [
       "<div>\n",
       "<style scoped>\n",
       "    .dataframe tbody tr th:only-of-type {\n",
       "        vertical-align: middle;\n",
       "    }\n",
       "\n",
       "    .dataframe tbody tr th {\n",
       "        vertical-align: top;\n",
       "    }\n",
       "\n",
       "    .dataframe thead th {\n",
       "        text-align: right;\n",
       "    }\n",
       "</style>\n",
       "<table border=\"1\" class=\"dataframe\">\n",
       "  <thead>\n",
       "    <tr style=\"text-align: right;\">\n",
       "      <th></th>\n",
       "      <th>ID</th>\n",
       "      <th>Year</th>\n",
       "      <th>Country</th>\n",
       "      <th>Continent</th>\n",
       "      <th>GDP (USD)</th>\n",
       "      <th>Population</th>\n",
       "    </tr>\n",
       "  </thead>\n",
       "  <tbody>\n",
       "    <tr>\n",
       "      <th>0</th>\n",
       "      <td>1</td>\n",
       "      <td>2000</td>\n",
       "      <td>Uganda</td>\n",
       "      <td>East Africa</td>\n",
       "      <td>6193246837</td>\n",
       "      <td>23303189</td>\n",
       "    </tr>\n",
       "    <tr>\n",
       "      <th>1</th>\n",
       "      <td>2</td>\n",
       "      <td>2001</td>\n",
       "      <td>Uganda</td>\n",
       "      <td>East Africa</td>\n",
       "      <td>5840503869</td>\n",
       "      <td>24022603</td>\n",
       "    </tr>\n",
       "    <tr>\n",
       "      <th>2</th>\n",
       "      <td>3</td>\n",
       "      <td>2002</td>\n",
       "      <td>Uganda</td>\n",
       "      <td>East Africa</td>\n",
       "      <td>5840503869</td>\n",
       "      <td>24781316</td>\n",
       "    </tr>\n",
       "    <tr>\n",
       "      <th>3</th>\n",
       "      <td>4</td>\n",
       "      <td>2003</td>\n",
       "      <td>Uganda</td>\n",
       "      <td>East Africa</td>\n",
       "      <td>6606884274</td>\n",
       "      <td>25577246</td>\n",
       "    </tr>\n",
       "    <tr>\n",
       "      <th>4</th>\n",
       "      <td>5</td>\n",
       "      <td>2004</td>\n",
       "      <td>Uganda</td>\n",
       "      <td>East Africa</td>\n",
       "      <td>7939487548</td>\n",
       "      <td>26403221</td>\n",
       "    </tr>\n",
       "    <tr>\n",
       "      <th>...</th>\n",
       "      <td>...</td>\n",
       "      <td>...</td>\n",
       "      <td>...</td>\n",
       "      <td>...</td>\n",
       "      <td>...</td>\n",
       "      <td>...</td>\n",
       "    </tr>\n",
       "    <tr>\n",
       "      <th>1329</th>\n",
       "      <td>1330</td>\n",
       "      <td>2018</td>\n",
       "      <td>Togo</td>\n",
       "      <td>West Africa</td>\n",
       "      <td>7029217932</td>\n",
       "      <td>7794569</td>\n",
       "    </tr>\n",
       "    <tr>\n",
       "      <th>1330</th>\n",
       "      <td>1331</td>\n",
       "      <td>2019</td>\n",
       "      <td>Togo</td>\n",
       "      <td>West Africa</td>\n",
       "      <td>6992656429</td>\n",
       "      <td>7986521</td>\n",
       "    </tr>\n",
       "    <tr>\n",
       "      <th>1331</th>\n",
       "      <td>1332</td>\n",
       "      <td>2020</td>\n",
       "      <td>Togo</td>\n",
       "      <td>West Africa</td>\n",
       "      <td>7389329393</td>\n",
       "      <td>8181085</td>\n",
       "    </tr>\n",
       "    <tr>\n",
       "      <th>1332</th>\n",
       "      <td>1333</td>\n",
       "      <td>2021</td>\n",
       "      <td>Togo</td>\n",
       "      <td>West Africa</td>\n",
       "      <td>8334047486</td>\n",
       "      <td>8399356</td>\n",
       "    </tr>\n",
       "    <tr>\n",
       "      <th>1333</th>\n",
       "      <td>1334</td>\n",
       "      <td>2022</td>\n",
       "      <td>Togo</td>\n",
       "      <td>West Africa</td>\n",
       "      <td>8126439481</td>\n",
       "      <td>8623451</td>\n",
       "    </tr>\n",
       "  </tbody>\n",
       "</table>\n",
       "<p>1334 rows × 6 columns</p>\n",
       "</div>"
      ],
      "text/plain": [
       "        ID  Year Country    Continent  GDP (USD)  Population\n",
       "0        1  2000  Uganda  East Africa 6193246837    23303189\n",
       "1        2  2001  Uganda  East Africa 5840503869    24022603\n",
       "2        3  2002  Uganda  East Africa 5840503869    24781316\n",
       "3        4  2003  Uganda  East Africa 6606884274    25577246\n",
       "4        5  2004  Uganda  East Africa 7939487548    26403221\n",
       "...    ...   ...     ...          ...        ...         ...\n",
       "1329  1330  2018    Togo  West Africa 7029217932     7794569\n",
       "1330  1331  2019    Togo  West Africa 6992656429     7986521\n",
       "1331  1332  2020    Togo  West Africa 7389329393     8181085\n",
       "1332  1333  2021    Togo  West Africa 8334047486     8399356\n",
       "1333  1334  2022    Togo  West Africa 8126439481     8623451\n",
       "\n",
       "[1334 rows x 6 columns]"
      ]
     },
     "execution_count": 134,
     "metadata": {},
     "output_type": "execute_result"
    }
   ],
   "source": [
    "df.drop('Population ', axis=1)"
   ]
  },
  {
   "cell_type": "code",
   "execution_count": 136,
   "id": "4c2d56fc-5802-41b3-b8f2-2bdb1bdc0e60",
   "metadata": {},
   "outputs": [
    {
     "data": {
      "text/plain": [
       "array(['Uganda', 'Burundi', 'Djibouti', 'Zambia', 'Zimbabwe', 'Kenya',\n",
       "       'Union of the Comors', 'Mauritius', 'Madagascar', 'Mayotte',\n",
       "       'Malawi', 'Mozambique', 'Reunion', 'Rwanda', 'Seyshelles',\n",
       "       'Somalia', 'Tanzania', 'Eritrea', 'Ethiopia', 'South Sudan',\n",
       "       'Sudan', 'Algeria', 'Egypt', 'SADR', 'Libya', 'Morocco', 'Tunisia',\n",
       "       'Botswana', 'Lesotho', 'Namibia', 'Eswatini', 'South Africa',\n",
       "       'Angola', 'Gabon', 'Cameroon', 'Democratic Republic of the Congo',\n",
       "       'Republic of the Congo', 'Sao Tome and Principe',\n",
       "       'Central African Republic', 'Chad', 'Equatorial Guinea', 'Benin',\n",
       "       'Burkina Faso', 'Gambia', 'Ghana', 'Guinea', 'Guinea-Bissau',\n",
       "       'Cape Verde', 'Ivory Coast', 'Liberia', 'Mauritania', 'Mali',\n",
       "       'Niger', 'Nigeria', 'Saint Helena, Ascension and Tristan da Cunha',\n",
       "       'Senegal', 'Sierra Leone', 'Togo'], dtype=object)"
      ]
     },
     "execution_count": 136,
     "metadata": {},
     "output_type": "execute_result"
    }
   ],
   "source": [
    "df['Country'].unique()"
   ]
  },
  {
   "cell_type": "code",
   "execution_count": 138,
   "id": "08a4577b-214c-4362-ac06-5cc9c116ae76",
   "metadata": {},
   "outputs": [
    {
     "data": {
      "text/plain": [
       "array(['East Africa', 'North Africa', 'South Africa', 'Central Africa',\n",
       "       'West Africa'], dtype=object)"
      ]
     },
     "execution_count": 138,
     "metadata": {},
     "output_type": "execute_result"
    }
   ],
   "source": [
    "df['Continent'].unique()"
   ]
  },
  {
   "cell_type": "code",
   "execution_count": 140,
   "id": "e4fbb662-d8a0-4af4-9275-53d45a6409e7",
   "metadata": {},
   "outputs": [
    {
     "data": {
      "text/plain": [
       "array([2000, 2001, 2002, 2003, 2004, 2005, 2006, 2007, 2008, 2009, 2010,\n",
       "       2011, 2012, 2013, 2014, 2015, 2016, 2017, 2018, 2019, 2020, 2021,\n",
       "       2022], dtype=int64)"
      ]
     },
     "execution_count": 140,
     "metadata": {},
     "output_type": "execute_result"
    }
   ],
   "source": [
    "df['Year'].unique()"
   ]
  },
  {
   "cell_type": "code",
   "execution_count": 142,
   "id": "fe205afb-f4f1-4960-8aee-c2e2475ba90b",
   "metadata": {},
   "outputs": [
    {
     "name": "stdout",
     "output_type": "stream",
     "text": [
      "<class 'pandas.core.frame.DataFrame'>\n",
      "RangeIndex: 1334 entries, 0 to 1333\n",
      "Data columns (total 7 columns):\n",
      " #   Column       Non-Null Count  Dtype  \n",
      "---  ------       --------------  -----  \n",
      " 0   ID           1334 non-null   int64  \n",
      " 1   Year         1334 non-null   int64  \n",
      " 2   Country      1334 non-null   object \n",
      " 3   Continent    1334 non-null   object \n",
      " 4   Population   1334 non-null   object \n",
      " 5   GDP (USD)    1179 non-null   float64\n",
      " 6   Population   1334 non-null   int64  \n",
      "dtypes: float64(1), int64(3), object(3)\n",
      "memory usage: 73.1+ KB\n"
     ]
    }
   ],
   "source": [
    "df.info()"
   ]
  },
  {
   "cell_type": "code",
   "execution_count": 144,
   "id": "f2317b47-ae50-4ddc-bf03-ed196227611d",
   "metadata": {},
   "outputs": [
    {
     "data": {
      "text/plain": [
       "ID               0\n",
       "Year             0\n",
       "Country          0\n",
       "Continent        0\n",
       "Population       0\n",
       "GDP (USD)      155\n",
       "Population       0\n",
       "dtype: int64"
      ]
     },
     "execution_count": 144,
     "metadata": {},
     "output_type": "execute_result"
    }
   ],
   "source": [
    "df.isnull().sum()"
   ]
  },
  {
   "cell_type": "code",
   "execution_count": 146,
   "id": "6698bae2-6708-4bf7-96db-30b615efcc23",
   "metadata": {},
   "outputs": [],
   "source": [
    "df['GDP (USD)'] = df['GDP (USD)'].fillna(df.groupby('Continent')['GDP (USD)'].transform('mean'))"
   ]
  },
  {
   "cell_type": "code",
   "execution_count": 148,
   "id": "5744c551-b354-47ff-a8ec-d625f088a245",
   "metadata": {},
   "outputs": [
    {
     "data": {
      "text/plain": [
       "ID             0\n",
       "Year           0\n",
       "Country        0\n",
       "Continent      0\n",
       "Population     0\n",
       "GDP (USD)      0\n",
       "Population     0\n",
       "dtype: int64"
      ]
     },
     "execution_count": 148,
     "metadata": {},
     "output_type": "execute_result"
    }
   ],
   "source": [
    "df.isnull().sum()"
   ]
  },
  {
   "cell_type": "code",
   "execution_count": 150,
   "id": "4fdddefc-09ea-4d11-a4b4-473f9c44e4ac",
   "metadata": {},
   "outputs": [
    {
     "data": {
      "text/html": [
       "<div>\n",
       "<style scoped>\n",
       "    .dataframe tbody tr th:only-of-type {\n",
       "        vertical-align: middle;\n",
       "    }\n",
       "\n",
       "    .dataframe tbody tr th {\n",
       "        vertical-align: top;\n",
       "    }\n",
       "\n",
       "    .dataframe thead th {\n",
       "        text-align: right;\n",
       "    }\n",
       "</style>\n",
       "<table border=\"1\" class=\"dataframe\">\n",
       "  <thead>\n",
       "    <tr style=\"text-align: right;\">\n",
       "      <th></th>\n",
       "      <th>ID</th>\n",
       "      <th>Year</th>\n",
       "      <th>GDP (USD)</th>\n",
       "      <th>Population</th>\n",
       "    </tr>\n",
       "  </thead>\n",
       "  <tbody>\n",
       "    <tr>\n",
       "      <th>count</th>\n",
       "      <td>1334</td>\n",
       "      <td>1334</td>\n",
       "      <td>1334</td>\n",
       "      <td>1334</td>\n",
       "    </tr>\n",
       "    <tr>\n",
       "      <th>mean</th>\n",
       "      <td>668</td>\n",
       "      <td>2011</td>\n",
       "      <td>35850587616</td>\n",
       "      <td>18439448</td>\n",
       "    </tr>\n",
       "    <tr>\n",
       "      <th>std</th>\n",
       "      <td>385</td>\n",
       "      <td>7</td>\n",
       "      <td>74431608305</td>\n",
       "      <td>28215865</td>\n",
       "    </tr>\n",
       "    <tr>\n",
       "      <th>min</th>\n",
       "      <td>1</td>\n",
       "      <td>2000</td>\n",
       "      <td>75951132</td>\n",
       "      <td>5144</td>\n",
       "    </tr>\n",
       "    <tr>\n",
       "      <th>25%</th>\n",
       "      <td>334</td>\n",
       "      <td>2005</td>\n",
       "      <td>3563112960</td>\n",
       "      <td>1868256</td>\n",
       "    </tr>\n",
       "    <tr>\n",
       "      <th>50%</th>\n",
       "      <td>668</td>\n",
       "      <td>2011</td>\n",
       "      <td>12429492927</td>\n",
       "      <td>9688700</td>\n",
       "    </tr>\n",
       "    <tr>\n",
       "      <th>75%</th>\n",
       "      <td>1001</td>\n",
       "      <td>2017</td>\n",
       "      <td>30489377181</td>\n",
       "      <td>21835540</td>\n",
       "    </tr>\n",
       "    <tr>\n",
       "      <th>max</th>\n",
       "      <td>1334</td>\n",
       "      <td>2022</td>\n",
       "      <td>574183825592</td>\n",
       "      <td>214568727</td>\n",
       "    </tr>\n",
       "  </tbody>\n",
       "</table>\n",
       "</div>"
      ],
      "text/plain": [
       "        ID  Year    GDP (USD)  Population\n",
       "count 1334  1334         1334        1334\n",
       "mean   668  2011  35850587616    18439448\n",
       "std    385     7  74431608305    28215865\n",
       "min      1  2000     75951132        5144\n",
       "25%    334  2005   3563112960     1868256\n",
       "50%    668  2011  12429492927     9688700\n",
       "75%   1001  2017  30489377181    21835540\n",
       "max   1334  2022 574183825592   214568727"
      ]
     },
     "execution_count": 150,
     "metadata": {},
     "output_type": "execute_result"
    }
   ],
   "source": [
    "df.describe()"
   ]
  },
  {
   "cell_type": "code",
   "execution_count": 152,
   "id": "52ea76fb-bf12-4842-9c06-39ffc107520d",
   "metadata": {},
   "outputs": [
    {
     "name": "stdout",
     "output_type": "stream",
     "text": [
      "Correlation between Population and GDP: 0.73\n"
     ]
    }
   ],
   "source": [
    "# Correlation between population and GDP\n",
    "corr_pop_gdp = df['Population'].corr(df['GDP (USD)'])\n",
    "print(f'Correlation between Population and GDP: {corr_pop_gdp:.2f}')"
   ]
  },
  {
   "cell_type": "code",
   "execution_count": 154,
   "id": "1d7a448c-74a1-47e7-bc8f-eb5c2f93dc9b",
   "metadata": {},
   "outputs": [
    {
     "data": {
      "image/png": "[encoded data removed]",
      "text/plain": [
       "<Figure size 640x480 with 2 Axes>"
      ]
     },
     "metadata": {},
     "output_type": "display_data"
    }
   ],
   "source": [
    "# Correlation matrix between population, GDP, and other features\n",
    "correlation_matrix = df.corr(numeric_only=True)\n",
    "\n",
    "# Heatmap of the correlation matrix\n",
    "sns.heatmap(correlation_matrix, annot=True, cmap='coolwarm', center=0)\n",
    "plt.title('Correlation Matrix')\n",
    "plt.show()"
   ]
  },
  {
   "cell_type": "code",
   "execution_count": 156,
   "id": "490be7e0-b135-468c-9bdf-b4ce12b65821",
   "metadata": {},
   "outputs": [
    {
     "data": {
      "text/html": [
       "<div>\n",
       "<style scoped>\n",
       "    .dataframe tbody tr th:only-of-type {\n",
       "        vertical-align: middle;\n",
       "    }\n",
       "\n",
       "    .dataframe tbody tr th {\n",
       "        vertical-align: top;\n",
       "    }\n",
       "\n",
       "    .dataframe thead th {\n",
       "        text-align: right;\n",
       "    }\n",
       "</style>\n",
       "<table border=\"1\" class=\"dataframe\">\n",
       "  <thead>\n",
       "    <tr style=\"text-align: right;\">\n",
       "      <th></th>\n",
       "      <th>ID</th>\n",
       "      <th>Year</th>\n",
       "      <th>GDP (USD)</th>\n",
       "      <th>Population</th>\n",
       "    </tr>\n",
       "    <tr>\n",
       "      <th>Continent</th>\n",
       "      <th></th>\n",
       "      <th></th>\n",
       "      <th></th>\n",
       "      <th></th>\n",
       "    </tr>\n",
       "  </thead>\n",
       "  <tbody>\n",
       "    <tr>\n",
       "      <th>North Africa</th>\n",
       "      <td>541</td>\n",
       "      <td>2011</td>\n",
       "      <td>102739141219</td>\n",
       "      <td>29684297</td>\n",
       "    </tr>\n",
       "    <tr>\n",
       "      <th>West Africa</th>\n",
       "      <td>1139</td>\n",
       "      <td>2011</td>\n",
       "      <td>30489377181</td>\n",
       "      <td>18605569</td>\n",
       "    </tr>\n",
       "    <tr>\n",
       "      <th>East Africa</th>\n",
       "      <td>230</td>\n",
       "      <td>2011</td>\n",
       "      <td>15687118638</td>\n",
       "      <td>17478589</td>\n",
       "    </tr>\n",
       "    <tr>\n",
       "      <th>Central Africa</th>\n",
       "      <td>840</td>\n",
       "      <td>2011</td>\n",
       "      <td>19161484409</td>\n",
       "      <td>15162271</td>\n",
       "    </tr>\n",
       "    <tr>\n",
       "      <th>South Africa</th>\n",
       "      <td>679</td>\n",
       "      <td>2011</td>\n",
       "      <td>71128989735</td>\n",
       "      <td>11874205</td>\n",
       "    </tr>\n",
       "  </tbody>\n",
       "</table>\n",
       "</div>"
      ],
      "text/plain": [
       "                 ID  Year    GDP (USD)  Population\n",
       "Continent                                         \n",
       "North Africa    541  2011 102739141219    29684297\n",
       "West Africa    1139  2011  30489377181    18605569\n",
       "East Africa     230  2011  15687118638    17478589\n",
       "Central Africa  840  2011  19161484409    15162271\n",
       "South Africa    679  2011  71128989735    11874205"
      ]
     },
     "execution_count": 156,
     "metadata": {},
     "output_type": "execute_result"
    }
   ],
   "source": [
    "df.groupby('Continent').mean(numeric_only=True).sort_values(by='Population',ascending=False)\n"
   ]
  },
  {
   "cell_type": "code",
   "execution_count": 158,
   "id": "8187ceb6-e016-44b4-8f46-8c2972c9c6c2",
   "metadata": {},
   "outputs": [
    {
     "data": {
      "text/html": [
       "<div>\n",
       "<style scoped>\n",
       "    .dataframe tbody tr th:only-of-type {\n",
       "        vertical-align: middle;\n",
       "    }\n",
       "\n",
       "    .dataframe tbody tr th {\n",
       "        vertical-align: top;\n",
       "    }\n",
       "\n",
       "    .dataframe thead th {\n",
       "        text-align: right;\n",
       "    }\n",
       "</style>\n",
       "<table border=\"1\" class=\"dataframe\">\n",
       "  <thead>\n",
       "    <tr style=\"text-align: right;\">\n",
       "      <th></th>\n",
       "      <th>ID</th>\n",
       "      <th>Year</th>\n",
       "      <th>GDP (USD)</th>\n",
       "      <th>Population</th>\n",
       "    </tr>\n",
       "    <tr>\n",
       "      <th>Continent</th>\n",
       "      <th></th>\n",
       "      <th></th>\n",
       "      <th></th>\n",
       "      <th></th>\n",
       "    </tr>\n",
       "  </thead>\n",
       "  <tbody>\n",
       "    <tr>\n",
       "      <th>North Africa</th>\n",
       "      <td>541</td>\n",
       "      <td>2011</td>\n",
       "      <td>102739141219</td>\n",
       "      <td>29684297</td>\n",
       "    </tr>\n",
       "    <tr>\n",
       "      <th>South Africa</th>\n",
       "      <td>679</td>\n",
       "      <td>2011</td>\n",
       "      <td>71128989735</td>\n",
       "      <td>11874205</td>\n",
       "    </tr>\n",
       "    <tr>\n",
       "      <th>West Africa</th>\n",
       "      <td>1139</td>\n",
       "      <td>2011</td>\n",
       "      <td>30489377181</td>\n",
       "      <td>18605569</td>\n",
       "    </tr>\n",
       "    <tr>\n",
       "      <th>Central Africa</th>\n",
       "      <td>840</td>\n",
       "      <td>2011</td>\n",
       "      <td>19161484409</td>\n",
       "      <td>15162271</td>\n",
       "    </tr>\n",
       "    <tr>\n",
       "      <th>East Africa</th>\n",
       "      <td>230</td>\n",
       "      <td>2011</td>\n",
       "      <td>15687118638</td>\n",
       "      <td>17478589</td>\n",
       "    </tr>\n",
       "  </tbody>\n",
       "</table>\n",
       "</div>"
      ],
      "text/plain": [
       "                 ID  Year    GDP (USD)  Population\n",
       "Continent                                         \n",
       "North Africa    541  2011 102739141219    29684297\n",
       "South Africa    679  2011  71128989735    11874205\n",
       "West Africa    1139  2011  30489377181    18605569\n",
       "Central Africa  840  2011  19161484409    15162271\n",
       "East Africa     230  2011  15687118638    17478589"
      ]
     },
     "execution_count": 158,
     "metadata": {},
     "output_type": "execute_result"
    }
   ],
   "source": [
    "df.groupby('Continent').mean(numeric_only=True).sort_values(by='GDP (USD)',ascending=False)\n"
   ]
  },
  {
   "cell_type": "code",
   "execution_count": 160,
   "id": "563ee273-3d21-4684-b12b-b36bf53385f2",
   "metadata": {},
   "outputs": [
    {
     "data": {
      "text/plain": [
       "Text(0.5, 1.0, \"Africa's GDP over the years\")"
      ]
     },
     "execution_count": 160,
     "metadata": {},
     "output_type": "execute_result"
    },
    {
     "data": {
      "image/png": "[encoded data removed]",
      "text/plain": [
       "<Figure size 640x480 with 1 Axes>"
      ]
     },
     "metadata": {},
     "output_type": "display_data"
    }
   ],
   "source": [
    "sns.lineplot(data = df, x = 'Year', y = 'GDP (USD)', hue = 'Continent')\n",
    "plt.title(\"Africa's GDP over the years\")"
   ]
  },
  {
   "cell_type": "code",
   "execution_count": 166,
   "id": "0f8f7123-6319-4856-8c5f-a169612eaa4e",
   "metadata": {},
   "outputs": [
    {
     "data": {
      "text/plain": [
       "Text(0.5, 1.0, \"Africa's Population growth over the years\")"
      ]
     },
     "execution_count": 166,
     "metadata": {},
     "output_type": "execute_result"
    },
    {
     "data": {
      "image/png": "[encoded data removed]",
      "text/plain": [
       "<Figure size 640x480 with 1 Axes>"
      ]
     },
     "metadata": {},
     "output_type": "display_data"
    }
   ],
   "source": [
    "sns.lineplot(data = df, x = 'Year', y = 'Population', hue = 'Continent')\n",
    "plt.title(\"Africa's Population growth over the years\")"
   ]
  },
  {
   "cell_type": "code",
   "execution_count": 168,
   "id": "8ee96a04-e239-4c3d-b811-aea75bbd3c6f",
   "metadata": {},
   "outputs": [
    {
     "data": {
      "text/html": [
       "<div>\n",
       "<style scoped>\n",
       "    .dataframe tbody tr th:only-of-type {\n",
       "        vertical-align: middle;\n",
       "    }\n",
       "\n",
       "    .dataframe tbody tr th {\n",
       "        vertical-align: top;\n",
       "    }\n",
       "\n",
       "    .dataframe thead th {\n",
       "        text-align: right;\n",
       "    }\n",
       "</style>\n",
       "<table border=\"1\" class=\"dataframe\">\n",
       "  <thead>\n",
       "    <tr style=\"text-align: right;\">\n",
       "      <th></th>\n",
       "      <th>ID</th>\n",
       "      <th>Year</th>\n",
       "      <th>GDP (USD)</th>\n",
       "      <th>Population</th>\n",
       "    </tr>\n",
       "    <tr>\n",
       "      <th>Country</th>\n",
       "      <th></th>\n",
       "      <th></th>\n",
       "      <th></th>\n",
       "      <th></th>\n",
       "    </tr>\n",
       "  </thead>\n",
       "  <tbody>\n",
       "    <tr>\n",
       "      <th>Nigeria</th>\n",
       "      <td>1231</td>\n",
       "      <td>2011</td>\n",
       "      <td>333292806054</td>\n",
       "      <td>163214618</td>\n",
       "    </tr>\n",
       "    <tr>\n",
       "      <th>Ethiopia</th>\n",
       "      <td>426</td>\n",
       "      <td>2011</td>\n",
       "      <td>48042300821</td>\n",
       "      <td>90274538</td>\n",
       "    </tr>\n",
       "    <tr>\n",
       "      <th>Egypt</th>\n",
       "      <td>518</td>\n",
       "      <td>2011</td>\n",
       "      <td>227172404764</td>\n",
       "      <td>85131517</td>\n",
       "    </tr>\n",
       "    <tr>\n",
       "      <th>Democratic Republic of the Congo</th>\n",
       "      <td>817</td>\n",
       "      <td>2011</td>\n",
       "      <td>28518689515</td>\n",
       "      <td>67307112</td>\n",
       "    </tr>\n",
       "    <tr>\n",
       "      <th>South Africa</th>\n",
       "      <td>725</td>\n",
       "      <td>2011</td>\n",
       "      <td>327816186259</td>\n",
       "      <td>52058903</td>\n",
       "    </tr>\n",
       "    <tr>\n",
       "      <th>Tanzania</th>\n",
       "      <td>380</td>\n",
       "      <td>2011</td>\n",
       "      <td>37904144966</td>\n",
       "      <td>46054966</td>\n",
       "    </tr>\n",
       "    <tr>\n",
       "      <th>Kenya</th>\n",
       "      <td>127</td>\n",
       "      <td>2011</td>\n",
       "      <td>54198549754</td>\n",
       "      <td>42981677</td>\n",
       "    </tr>\n",
       "    <tr>\n",
       "      <th>Algeria</th>\n",
       "      <td>495</td>\n",
       "      <td>2011</td>\n",
       "      <td>144376568973</td>\n",
       "      <td>37003272</td>\n",
       "    </tr>\n",
       "    <tr>\n",
       "      <th>Sudan</th>\n",
       "      <td>472</td>\n",
       "      <td>2011</td>\n",
       "      <td>52651666585</td>\n",
       "      <td>35458974</td>\n",
       "    </tr>\n",
       "    <tr>\n",
       "      <th>Uganda</th>\n",
       "      <td>12</td>\n",
       "      <td>2011</td>\n",
       "      <td>23077097261</td>\n",
       "      <td>33982791</td>\n",
       "    </tr>\n",
       "  </tbody>\n",
       "</table>\n",
       "</div>"
      ],
      "text/plain": [
       "                                   ID  Year    GDP (USD)  Population\n",
       "Country                                                             \n",
       "Nigeria                          1231  2011 333292806054   163214618\n",
       "Ethiopia                          426  2011  48042300821    90274538\n",
       "Egypt                             518  2011 227172404764    85131517\n",
       "Democratic Republic of the Congo  817  2011  28518689515    67307112\n",
       "South Africa                      725  2011 327816186259    52058903\n",
       "Tanzania                          380  2011  37904144966    46054966\n",
       "Kenya                             127  2011  54198549754    42981677\n",
       "Algeria                           495  2011 144376568973    37003272\n",
       "Sudan                             472  2011  52651666585    35458974\n",
       "Uganda                             12  2011  23077097261    33982791"
      ]
     },
     "execution_count": 168,
     "metadata": {},
     "output_type": "execute_result"
    }
   ],
   "source": [
    "# Top 10 Countries by Population\n",
    "df1 = df.groupby('Country').mean(numeric_only=True).sort_values(by='Population',ascending=False).head(10)\n",
    "df1\n"
   ]
  },
  {
   "cell_type": "code",
   "execution_count": 170,
   "id": "f3b29388-ae33-4cd8-9a79-42c6ba9c3b78",
   "metadata": {},
   "outputs": [
    {
     "data": {
      "text/plain": [
       "Text(0.5, 1.0, 'Population data for the top 10  Countries')"
      ]
     },
     "execution_count": 170,
     "metadata": {},
     "output_type": "execute_result"
    },
    {
     "data": {
      "image/png": "[encoded data removed]",
      "text/plain": [
       "<Figure size 640x480 with 1 Axes>"
      ]
     },
     "metadata": {},
     "output_type": "display_data"
    }
   ],
   "source": [
    "sns.set_style('darkgrid')\n",
    "sns.barplot(y='Country', x='Population', data=df1)\n",
    "plt.xlabel('Population', color='red')\n",
    "plt.ylabel('Country', color='red')\n",
    "plt.title('Population data for the top 10  Countries')"
   ]
  },
  {
   "cell_type": "code",
   "execution_count": 172,
   "id": "9f61c8e7-a452-4419-a1e9-ced9bb5bf893",
   "metadata": {},
   "outputs": [
    {
     "data": {
      "text/html": [
       "<div>\n",
       "<style scoped>\n",
       "    .dataframe tbody tr th:only-of-type {\n",
       "        vertical-align: middle;\n",
       "    }\n",
       "\n",
       "    .dataframe tbody tr th {\n",
       "        vertical-align: top;\n",
       "    }\n",
       "\n",
       "    .dataframe thead th {\n",
       "        text-align: right;\n",
       "    }\n",
       "</style>\n",
       "<table border=\"1\" class=\"dataframe\">\n",
       "  <thead>\n",
       "    <tr style=\"text-align: right;\">\n",
       "      <th></th>\n",
       "      <th>ID</th>\n",
       "      <th>Year</th>\n",
       "      <th>GDP (USD)</th>\n",
       "      <th>Population</th>\n",
       "    </tr>\n",
       "    <tr>\n",
       "      <th>Country</th>\n",
       "      <th></th>\n",
       "      <th></th>\n",
       "      <th></th>\n",
       "      <th></th>\n",
       "    </tr>\n",
       "  </thead>\n",
       "  <tbody>\n",
       "    <tr>\n",
       "      <th>Equatorial Guinea</th>\n",
       "      <td>932</td>\n",
       "      <td>2011</td>\n",
       "      <td>12017736501</td>\n",
       "      <td>989883</td>\n",
       "    </tr>\n",
       "    <tr>\n",
       "      <th>Djibouti</th>\n",
       "      <td>58</td>\n",
       "      <td>2011</td>\n",
       "      <td>1705136119</td>\n",
       "      <td>855039</td>\n",
       "    </tr>\n",
       "    <tr>\n",
       "      <th>Reunion</th>\n",
       "      <td>288</td>\n",
       "      <td>2011</td>\n",
       "      <td>15687118638</td>\n",
       "      <td>828427</td>\n",
       "    </tr>\n",
       "    <tr>\n",
       "      <th>Union of the Comors</th>\n",
       "      <td>150</td>\n",
       "      <td>2011</td>\n",
       "      <td>900941095</td>\n",
       "      <td>705801</td>\n",
       "    </tr>\n",
       "    <tr>\n",
       "      <th>Cape Verde</th>\n",
       "      <td>1093</td>\n",
       "      <td>2011</td>\n",
       "      <td>1617868877</td>\n",
       "      <td>496372</td>\n",
       "    </tr>\n",
       "    <tr>\n",
       "      <th>SADR</th>\n",
       "      <td>541</td>\n",
       "      <td>2011</td>\n",
       "      <td>102739141219</td>\n",
       "      <td>479798</td>\n",
       "    </tr>\n",
       "    <tr>\n",
       "      <th>Mayotte</th>\n",
       "      <td>219</td>\n",
       "      <td>2011</td>\n",
       "      <td>15687118638</td>\n",
       "      <td>213017</td>\n",
       "    </tr>\n",
       "    <tr>\n",
       "      <th>Sao Tome and Principe</th>\n",
       "      <td>863</td>\n",
       "      <td>2011</td>\n",
       "      <td>1090962383</td>\n",
       "      <td>181574</td>\n",
       "    </tr>\n",
       "    <tr>\n",
       "      <th>Seyshelles</th>\n",
       "      <td>334</td>\n",
       "      <td>2011</td>\n",
       "      <td>1138469191</td>\n",
       "      <td>91430</td>\n",
       "    </tr>\n",
       "    <tr>\n",
       "      <th>Saint Helena, Ascension and Tristan da Cunha</th>\n",
       "      <td>1254</td>\n",
       "      <td>2011</td>\n",
       "      <td>30489377181</td>\n",
       "      <td>5672</td>\n",
       "    </tr>\n",
       "  </tbody>\n",
       "</table>\n",
       "</div>"
      ],
      "text/plain": [
       "                                               ID  Year    GDP (USD)  \\\n",
       "Country                                                                \n",
       "Equatorial Guinea                             932  2011  12017736501   \n",
       "Djibouti                                       58  2011   1705136119   \n",
       "Reunion                                       288  2011  15687118638   \n",
       "Union of the Comors                           150  2011    900941095   \n",
       "Cape Verde                                   1093  2011   1617868877   \n",
       "SADR                                          541  2011 102739141219   \n",
       "Mayotte                                       219  2011  15687118638   \n",
       "Sao Tome and Principe                         863  2011   1090962383   \n",
       "Seyshelles                                    334  2011   1138469191   \n",
       "Saint Helena, Ascension and Tristan da Cunha 1254  2011  30489377181   \n",
       "\n",
       "                                              Population  \n",
       "Country                                                   \n",
       "Equatorial Guinea                                 989883  \n",
       "Djibouti                                          855039  \n",
       "Reunion                                           828427  \n",
       "Union of the Comors                               705801  \n",
       "Cape Verde                                        496372  \n",
       "SADR                                              479798  \n",
       "Mayotte                                           213017  \n",
       "Sao Tome and Principe                             181574  \n",
       "Seyshelles                                         91430  \n",
       "Saint Helena, Ascension and Tristan da Cunha        5672  "
      ]
     },
     "execution_count": 172,
     "metadata": {},
     "output_type": "execute_result"
    }
   ],
   "source": [
    "# Bottom 10 countries by Population\n",
    "df2 = df.groupby('Country').mean(numeric_only=True).sort_values(by='Population', ascending=False).tail(10)\n",
    "df2"
   ]
  },
  {
   "cell_type": "code",
   "execution_count": 174,
   "id": "f34e9983-6fae-4e66-bed8-95a60d603a3f",
   "metadata": {},
   "outputs": [
    {
     "data": {
      "text/plain": [
       "Text(0.5, 1.0, 'Population data for the Bottom 10  Countries')"
      ]
     },
     "execution_count": 174,
     "metadata": {},
     "output_type": "execute_result"
    },
    {
     "data": {
      "image/png": "[encoded data removed]",
      "text/plain": [
       "<Figure size 640x480 with 1 Axes>"
      ]
     },
     "metadata": {},
     "output_type": "display_data"
    }
   ],
   "source": [
    "# Top 10 Countries for each country\n",
    "sns.set_style('darkgrid')\n",
    "sns.barplot(y='Country', x='Population', data=df2)\n",
    "plt.xlabel('Population', color='red')\n",
    "plt.ylabel('Country', color='red')\n",
    "plt.title('Population data for the Bottom 10  Countries')"
   ]
  },
  {
   "cell_type": "code",
   "execution_count": 176,
   "id": "ba0f0e18-4e70-40d3-8d15-812d2837f9f9",
   "metadata": {},
   "outputs": [
    {
     "data": {
      "text/html": [
       "<div>\n",
       "<style scoped>\n",
       "    .dataframe tbody tr th:only-of-type {\n",
       "        vertical-align: middle;\n",
       "    }\n",
       "\n",
       "    .dataframe tbody tr th {\n",
       "        vertical-align: top;\n",
       "    }\n",
       "\n",
       "    .dataframe thead th {\n",
       "        text-align: right;\n",
       "    }\n",
       "</style>\n",
       "<table border=\"1\" class=\"dataframe\">\n",
       "  <thead>\n",
       "    <tr style=\"text-align: right;\">\n",
       "      <th></th>\n",
       "      <th>ID</th>\n",
       "      <th>Year</th>\n",
       "      <th>GDP (USD)</th>\n",
       "      <th>Population</th>\n",
       "    </tr>\n",
       "    <tr>\n",
       "      <th>Country</th>\n",
       "      <th></th>\n",
       "      <th></th>\n",
       "      <th></th>\n",
       "      <th></th>\n",
       "    </tr>\n",
       "  </thead>\n",
       "  <tbody>\n",
       "    <tr>\n",
       "      <th>Nigeria</th>\n",
       "      <td>1231</td>\n",
       "      <td>2011</td>\n",
       "      <td>333292806054</td>\n",
       "      <td>163214618</td>\n",
       "    </tr>\n",
       "    <tr>\n",
       "      <th>South Africa</th>\n",
       "      <td>725</td>\n",
       "      <td>2011</td>\n",
       "      <td>327816186259</td>\n",
       "      <td>52058903</td>\n",
       "    </tr>\n",
       "    <tr>\n",
       "      <th>Egypt</th>\n",
       "      <td>518</td>\n",
       "      <td>2011</td>\n",
       "      <td>227172404764</td>\n",
       "      <td>85131517</td>\n",
       "    </tr>\n",
       "    <tr>\n",
       "      <th>Algeria</th>\n",
       "      <td>495</td>\n",
       "      <td>2011</td>\n",
       "      <td>144376568973</td>\n",
       "      <td>37003272</td>\n",
       "    </tr>\n",
       "    <tr>\n",
       "      <th>SADR</th>\n",
       "      <td>541</td>\n",
       "      <td>2011</td>\n",
       "      <td>102739141219</td>\n",
       "      <td>479798</td>\n",
       "    </tr>\n",
       "    <tr>\n",
       "      <th>Morocco</th>\n",
       "      <td>587</td>\n",
       "      <td>2011</td>\n",
       "      <td>97420427131</td>\n",
       "      <td>32822589</td>\n",
       "    </tr>\n",
       "    <tr>\n",
       "      <th>Angola</th>\n",
       "      <td>748</td>\n",
       "      <td>2011</td>\n",
       "      <td>67423286783</td>\n",
       "      <td>24331043</td>\n",
       "    </tr>\n",
       "    <tr>\n",
       "      <th>Libya</th>\n",
       "      <td>564</td>\n",
       "      <td>2011</td>\n",
       "      <td>55136294721</td>\n",
       "      <td>6157103</td>\n",
       "    </tr>\n",
       "    <tr>\n",
       "      <th>Kenya</th>\n",
       "      <td>127</td>\n",
       "      <td>2011</td>\n",
       "      <td>54198549754</td>\n",
       "      <td>42981677</td>\n",
       "    </tr>\n",
       "    <tr>\n",
       "      <th>Sudan</th>\n",
       "      <td>472</td>\n",
       "      <td>2011</td>\n",
       "      <td>52651666585</td>\n",
       "      <td>35458974</td>\n",
       "    </tr>\n",
       "  </tbody>\n",
       "</table>\n",
       "</div>"
      ],
      "text/plain": [
       "               ID  Year    GDP (USD)  Population\n",
       "Country                                         \n",
       "Nigeria      1231  2011 333292806054   163214618\n",
       "South Africa  725  2011 327816186259    52058903\n",
       "Egypt         518  2011 227172404764    85131517\n",
       "Algeria       495  2011 144376568973    37003272\n",
       "SADR          541  2011 102739141219      479798\n",
       "Morocco       587  2011  97420427131    32822589\n",
       "Angola        748  2011  67423286783    24331043\n",
       "Libya         564  2011  55136294721     6157103\n",
       "Kenya         127  2011  54198549754    42981677\n",
       "Sudan         472  2011  52651666585    35458974"
      ]
     },
     "execution_count": 176,
     "metadata": {},
     "output_type": "execute_result"
    }
   ],
   "source": [
    "# Top 10 Countries by GDP\n",
    "df3 = df.groupby('Country').mean(numeric_only=True).sort_values(by='GDP (USD)',ascending=False).head(10)\n",
    "df3"
   ]
  },
  {
   "cell_type": "code",
   "execution_count": 178,
   "id": "4b4cfa3b-b0b6-40bf-b2d7-e3b43331eaee",
   "metadata": {},
   "outputs": [
    {
     "data": {
      "text/plain": [
       "Text(0.5, 1.0, 'GDP data for the top 10  Countries')"
      ]
     },
     "execution_count": 178,
     "metadata": {},
     "output_type": "execute_result"
    },
    {
     "data": {
      "image/png": "[encoded data removed]",
      "text/plain": [
       "<Figure size 640x480 with 1 Axes>"
      ]
     },
     "metadata": {},
     "output_type": "display_data"
    }
   ],
   "source": [
    "sns.set_style('darkgrid')\n",
    "sns.barplot(y='Country', x='GDP (USD)', data=df3)\n",
    "plt.xlabel('Population', color='red')\n",
    "plt.ylabel('Country', color='red')\n",
    "plt.title('GDP data for the top 10  Countries')"
   ]
  },
  {
   "cell_type": "code",
   "execution_count": 180,
   "id": "a769485a-4b1d-4f38-92ff-3d2a34c7fd55",
   "metadata": {},
   "outputs": [
    {
     "data": {
      "text/html": [
       "<div>\n",
       "<style scoped>\n",
       "    .dataframe tbody tr th:only-of-type {\n",
       "        vertical-align: middle;\n",
       "    }\n",
       "\n",
       "    .dataframe tbody tr th {\n",
       "        vertical-align: top;\n",
       "    }\n",
       "\n",
       "    .dataframe thead th {\n",
       "        text-align: right;\n",
       "    }\n",
       "</style>\n",
       "<table border=\"1\" class=\"dataframe\">\n",
       "  <thead>\n",
       "    <tr style=\"text-align: right;\">\n",
       "      <th></th>\n",
       "      <th>ID</th>\n",
       "      <th>Year</th>\n",
       "      <th>GDP (USD)</th>\n",
       "      <th>Population</th>\n",
       "    </tr>\n",
       "    <tr>\n",
       "      <th>Country</th>\n",
       "      <th></th>\n",
       "      <th></th>\n",
       "      <th></th>\n",
       "      <th></th>\n",
       "    </tr>\n",
       "  </thead>\n",
       "  <tbody>\n",
       "    <tr>\n",
       "      <th>Burundi</th>\n",
       "      <td>35</td>\n",
       "      <td>2011</td>\n",
       "      <td>1973301126</td>\n",
       "      <td>9006936</td>\n",
       "    </tr>\n",
       "    <tr>\n",
       "      <th>Lesotho</th>\n",
       "      <td>656</td>\n",
       "      <td>2011</td>\n",
       "      <td>1945556485</td>\n",
       "      <td>2045420</td>\n",
       "    </tr>\n",
       "    <tr>\n",
       "      <th>Central African Republic</th>\n",
       "      <td>886</td>\n",
       "      <td>2011</td>\n",
       "      <td>1815604155</td>\n",
       "      <td>4313878</td>\n",
       "    </tr>\n",
       "    <tr>\n",
       "      <th>Djibouti</th>\n",
       "      <td>58</td>\n",
       "      <td>2011</td>\n",
       "      <td>1705136119</td>\n",
       "      <td>855039</td>\n",
       "    </tr>\n",
       "    <tr>\n",
       "      <th>Cape Verde</th>\n",
       "      <td>1093</td>\n",
       "      <td>2011</td>\n",
       "      <td>1617868877</td>\n",
       "      <td>496372</td>\n",
       "    </tr>\n",
       "    <tr>\n",
       "      <th>Gambia</th>\n",
       "      <td>1001</td>\n",
       "      <td>2011</td>\n",
       "      <td>1339981840</td>\n",
       "      <td>1856237</td>\n",
       "    </tr>\n",
       "    <tr>\n",
       "      <th>Seyshelles</th>\n",
       "      <td>334</td>\n",
       "      <td>2011</td>\n",
       "      <td>1138469191</td>\n",
       "      <td>91430</td>\n",
       "    </tr>\n",
       "    <tr>\n",
       "      <th>Sao Tome and Principe</th>\n",
       "      <td>863</td>\n",
       "      <td>2011</td>\n",
       "      <td>1090962383</td>\n",
       "      <td>181574</td>\n",
       "    </tr>\n",
       "    <tr>\n",
       "      <th>Guinea-Bissau</th>\n",
       "      <td>1070</td>\n",
       "      <td>2011</td>\n",
       "      <td>957874693</td>\n",
       "      <td>1570681</td>\n",
       "    </tr>\n",
       "    <tr>\n",
       "      <th>Union of the Comors</th>\n",
       "      <td>150</td>\n",
       "      <td>2011</td>\n",
       "      <td>900941095</td>\n",
       "      <td>705801</td>\n",
       "    </tr>\n",
       "  </tbody>\n",
       "</table>\n",
       "</div>"
      ],
      "text/plain": [
       "                           ID  Year  GDP (USD)  Population\n",
       "Country                                                   \n",
       "Burundi                    35  2011 1973301126     9006936\n",
       "Lesotho                   656  2011 1945556485     2045420\n",
       "Central African Republic  886  2011 1815604155     4313878\n",
       "Djibouti                   58  2011 1705136119      855039\n",
       "Cape Verde               1093  2011 1617868877      496372\n",
       "Gambia                   1001  2011 1339981840     1856237\n",
       "Seyshelles                334  2011 1138469191       91430\n",
       "Sao Tome and Principe     863  2011 1090962383      181574\n",
       "Guinea-Bissau            1070  2011  957874693     1570681\n",
       "Union of the Comors       150  2011  900941095      705801"
      ]
     },
     "execution_count": 180,
     "metadata": {},
     "output_type": "execute_result"
    }
   ],
   "source": [
    "# Bottom 10 Countries by GDP\n",
    "df4 = df.groupby('Country').mean(numeric_only=True).sort_values(by='GDP (USD)',ascending=False).tail(10)\n",
    "df4"
   ]
  },
  {
   "cell_type": "code",
   "execution_count": 182,
   "id": "0bacc5ed-eaec-4579-9539-deaf06d96308",
   "metadata": {},
   "outputs": [
    {
     "data": {
      "text/plain": [
       "Text(0.5, 1.0, 'GDP data for the bottom 10 Countries')"
      ]
     },
     "execution_count": 182,
     "metadata": {},
     "output_type": "execute_result"
    },
    {
     "data": {
      "image/png": "[encoded data removed]",
      "text/plain": [
       "<Figure size 640x480 with 1 Axes>"
      ]
     },
     "metadata": {},
     "output_type": "display_data"
    }
   ],
   "source": [
    "sns.set_style('darkgrid')\n",
    "sns.barplot(y='Country', x='GDP (USD)', data=df4)\n",
    "plt.xlabel('GDP (USD)', color='red')\n",
    "plt.ylabel('Country', color='red')\n",
    "plt.title('GDP data for the bottom 10 Countries')"
   ]
  },
  {
   "cell_type": "code",
   "execution_count": null,
   "id": "65c8870f-dd4e-49e2-953f-51fde601bfc8",
   "metadata": {},
   "outputs": [],
   "source": []
  }
 ],
 "metadata": {
  "kernelspec": {
   "display_name": "Python [conda env:base] *",
   "language": "python",
   "name": "conda-base-py"
  },
  "language_info": {
   "codemirror_mode": {
    "name": "ipython",
    "version": 3
   },
   "file_extension": ".py",
   "mimetype": "text/x-python",
   "name": "python",
   "nbconvert_exporter": "python",
   "pygments_lexer": "ipython3",
   "version": "3.12.7"
  }
 },
 "nbformat": 4,
 "nbformat_minor": 5
}
